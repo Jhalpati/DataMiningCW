{
  "nbformat": 4,
  "nbformat_minor": 0,
  "metadata": {
    "colab": {
      "name": "Untitled3.ipynb",
      "provenance": [],
      "collapsed_sections": [],
      "toc_visible": true
    },
    "kernelspec": {
      "name": "python3",
      "display_name": "Python 3"
    }
  },
  "cells": [
    {
      "cell_type": "markdown",
      "metadata": {
        "id": "G50-u81QtXH2",
        "colab_type": "text"
      },
      "source": [
        "# **Part 1:** Nearest Neighbour Algorithm\n",
        "*by Hamza Sheikh (hshei001), Jaykumar Halpati (jhalp001) and Hardik Ramesh (hrame001).*\n",
        "\n",
        "This notebook demonstrates an implementation of the Nearest Neighbour algorithm without the use of any nearest neigbour algorithm libraries.\n",
        "\n",
        "We will be analysing two different distance measurements, Euclidian and Manhattan; recording our results in terms of the prediction accuracy of the algorithm, based on these two distance measurements."
      ]
    },
    {
      "cell_type": "code",
      "metadata": {
        "id": "WHPmsnpg2urI",
        "colab_type": "code",
        "outputId": "3a96d0ad-ba57-4db2-9e38-05a968286473",
        "colab": {
          "base_uri": "https://localhost:8080/",
          "height": 74
        }
      },
      "source": [
        "import pandas as pd\n",
        "import numpy as np\n",
        "import operator\n",
        "from operator import itemgetter\n",
        "import math\n",
        "from math import *\n",
        "from collections import Counter\n",
        "import matplotlib.pyplot as plt\n",
        "import seaborn as sns\n",
        "\n",
        "from sklearn.preprocessing import LabelEncoder\n",
        "from sklearn.metrics import accuracy_score\n",
        "from sklearn.metrics import confusion_matrix"
      ],
      "execution_count": 1,
      "outputs": [
        {
          "output_type": "stream",
          "text": [
            "/usr/local/lib/python3.6/dist-packages/statsmodels/tools/_testing.py:19: FutureWarning: pandas.util.testing is deprecated. Use the functions in the public API at pandas.testing instead.\n",
            "  import pandas.util.testing as tm\n"
          ],
          "name": "stderr"
        }
      ]
    },
    {
      "cell_type": "code",
      "metadata": {
        "id": "QRkP5aMa299o",
        "colab_type": "code",
        "outputId": "822f8f61-d1c1-4480-b629-dd2a95f8e01e",
        "colab": {
          "base_uri": "https://localhost:8080/",
          "height": 311
        }
      },
      "source": [
        "train_dataset = pd.read_csv(\"data/sonar_train.csv\")\n",
        "test_dataset = pd.read_csv(\"data/sonar_test.csv\")\n",
        "print(train_dataset.head())\n",
        "print(test_dataset.head())"
      ],
      "execution_count": 2,
      "outputs": [
        {
          "output_type": "stream",
          "text": [
            "       A1      A2      A3      A4      A5  ...     A57     A58     A59     A60  Class\n",
            "0  0.0079  0.0086  0.0055  0.0250  0.0344  ...  0.0059  0.0058  0.0059  0.0032      R\n",
            "1  0.0599  0.0474  0.0498  0.0387  0.1026  ...  0.0117  0.0114  0.0112  0.0100      M\n",
            "2  0.0093  0.0269  0.0217  0.0339  0.0305  ...  0.0070  0.0116  0.0060  0.0110      R\n",
            "3  0.0151  0.0320  0.0599  0.1050  0.1163  ...  0.0011  0.0019  0.0023  0.0062      R\n",
            "4  0.0317  0.0956  0.1321  0.1408  0.1674  ...  0.0092  0.0143  0.0036  0.0103      R\n",
            "\n",
            "[5 rows x 61 columns]\n",
            "       A1      A2      A3      A4      A5  ...     A57     A58     A59     A60  Class\n",
            "0  0.0125  0.0152  0.0218  0.0175  0.0362  ...  0.0017  0.0041  0.0086  0.0058      R\n",
            "1  0.0530  0.0885  0.1997  0.2604  0.3225  ...  0.0171  0.0146  0.0134  0.0056      M\n",
            "2  0.0368  0.0279  0.0103  0.0566  0.0759  ...  0.0009  0.0086  0.0110  0.0052      M\n",
            "3  0.0164  0.0173  0.0347  0.0070  0.0187  ...  0.0032  0.0035  0.0056  0.0040      R\n",
            "4  0.0216  0.0124  0.0174  0.0152  0.0608  ...  0.0047  0.0018  0.0006  0.0023      R\n",
            "\n",
            "[5 rows x 61 columns]\n"
          ],
          "name": "stdout"
        }
      ]
    },
    {
      "cell_type": "code",
      "metadata": {
        "id": "9WZcfrWyEuQH",
        "colab_type": "code",
        "colab": {}
      },
      "source": [
        "# reformatting training set and test set values from class values\n",
        "# replacing class values with 0s and 1s\n",
        "\n",
        "train_x = train_dataset.values[:,0:-1].astype(float)\n",
        "\n",
        "le = LabelEncoder()\n",
        "\n",
        "target = train_dataset.Class\n",
        "\n",
        "le = LabelEncoder.fit(le, y = [\"R\", \"M\"])\n",
        "train_y = le.transform(target)\n",
        "\n",
        "test_x = test_dataset.values[:,0:-1].astype(float)\n",
        "\n",
        "target2 = test_dataset.Class\n",
        "\n",
        "le2 = LabelEncoder.fit(le, y = [\"R\", \"M\"])\n",
        "test_y = le2.transform(target2)"
      ],
      "execution_count": 0,
      "outputs": []
    },
    {
      "cell_type": "code",
      "metadata": {
        "id": "VsdCeU5W595c",
        "colab_type": "code",
        "outputId": "55b5b395-5e92-4d2c-eb49-af76c4788b6c",
        "colab": {
          "base_uri": "https://localhost:8080/",
          "height": 146
        }
      },
      "source": [
        "print(train_x)"
      ],
      "execution_count": 4,
      "outputs": [
        {
          "output_type": "stream",
          "text": [
            "[[0.0079 0.0086 0.0055 ... 0.0058 0.0059 0.0032]\n",
            " [0.0599 0.0474 0.0498 ... 0.0114 0.0112 0.01  ]\n",
            " [0.0093 0.0269 0.0217 ... 0.0116 0.006  0.011 ]\n",
            " ...\n",
            " [0.0015 0.0186 0.0289 ... 0.001  0.0032 0.0047]\n",
            " [0.0411 0.0277 0.0604 ... 0.005  0.0085 0.0044]\n",
            " [0.027  0.0163 0.0341 ... 0.0094 0.0105 0.0093]]\n"
          ],
          "name": "stdout"
        }
      ]
    },
    {
      "cell_type": "code",
      "metadata": {
        "id": "88NQHNA359d5",
        "colab_type": "code",
        "outputId": "1ff0bc34-0717-4742-97ca-da62cf787d40",
        "colab": {
          "base_uri": "https://localhost:8080/",
          "height": 146
        }
      },
      "source": [
        "train_y"
      ],
      "execution_count": 5,
      "outputs": [
        {
          "output_type": "execute_result",
          "data": {
            "text/plain": [
              "array([1, 0, 1, 1, 1, 0, 0, 1, 0, 1, 1, 1, 0, 0, 0, 0, 0, 1, 0, 1, 0, 0,\n",
              "       0, 0, 1, 1, 0, 0, 0, 1, 0, 1, 1, 0, 0, 0, 1, 1, 0, 0, 1, 1, 1, 0,\n",
              "       1, 0, 0, 0, 0, 1, 1, 1, 1, 1, 1, 1, 1, 0, 0, 0, 0, 1, 1, 0, 1, 1,\n",
              "       1, 1, 0, 0, 1, 0, 1, 0, 0, 1, 0, 0, 1, 1, 1, 0, 1, 1, 0, 1, 0, 0,\n",
              "       0, 1, 0, 0, 1, 0, 1, 0, 0, 0, 1, 0, 0, 0, 0, 0, 1, 0, 1, 0, 1, 1,\n",
              "       0, 0, 0, 0, 1, 1, 1, 1, 0, 1, 1, 1, 1, 0, 0, 0, 0, 1, 1, 1, 1, 1,\n",
              "       0, 0, 0, 0, 0, 0, 0])"
            ]
          },
          "metadata": {
            "tags": []
          },
          "execution_count": 5
        }
      ]
    },
    {
      "cell_type": "code",
      "metadata": {
        "id": "orB8s_l-HBlZ",
        "colab_type": "code",
        "outputId": "9fe86bfd-4518-4f55-a51b-cbc082d9d021",
        "colab": {
          "base_uri": "https://localhost:8080/",
          "height": 182
        }
      },
      "source": [
        "# train = [[row, train_y[i]] for i, row in enumerate(train_x)]\n",
        "\n",
        "train = np.asarray(list(zip(train_x,train_y))) # more pythonic method (same as above commented line)\n",
        "train[0]"
      ],
      "execution_count": 6,
      "outputs": [
        {
          "output_type": "execute_result",
          "data": {
            "text/plain": [
              "array([array([0.0079, 0.0086, 0.0055, 0.025 , 0.0344, 0.0546, 0.0528, 0.0958,\n",
              "       0.1009, 0.124 , 0.1097, 0.1215, 0.1874, 0.3383, 0.3227, 0.2723,\n",
              "       0.3943, 0.6432, 0.7271, 0.8673, 0.9674, 0.9847, 0.948 , 0.8036,\n",
              "       0.6833, 0.5136, 0.309 , 0.0832, 0.4019, 0.2344, 0.1905, 0.1235,\n",
              "       0.1717, 0.2351, 0.2489, 0.3649, 0.3382, 0.1589, 0.0989, 0.1089,\n",
              "       0.1043, 0.0839, 0.1391, 0.0819, 0.0678, 0.0663, 0.1202, 0.0692,\n",
              "       0.0152, 0.0266, 0.0174, 0.0176, 0.0127, 0.0088, 0.0098, 0.0019,\n",
              "       0.0059, 0.0058, 0.0059, 0.0032]),\n",
              "       1], dtype=object)"
            ]
          },
          "metadata": {
            "tags": []
          },
          "execution_count": 6
        }
      ]
    },
    {
      "cell_type": "code",
      "metadata": {
        "id": "V_MfNNw04MCu",
        "colab_type": "code",
        "outputId": "ac039f54-12ca-49d2-994b-8f2e6fa803b1",
        "colab": {
          "base_uri": "https://localhost:8080/",
          "height": 182
        }
      },
      "source": [
        "test = np.asarray(list(zip(test_x,test_y)))\n",
        "test[0]"
      ],
      "execution_count": 7,
      "outputs": [
        {
          "output_type": "execute_result",
          "data": {
            "text/plain": [
              "array([array([0.0125, 0.0152, 0.0218, 0.0175, 0.0362, 0.0696, 0.0873, 0.0616,\n",
              "       0.1252, 0.1302, 0.0888, 0.05  , 0.0628, 0.1274, 0.0801, 0.0742,\n",
              "       0.2048, 0.295 , 0.3193, 0.4567, 0.5959, 0.7101, 0.8225, 0.8425,\n",
              "       0.9065, 0.9802, 1.    , 0.8752, 0.7583, 0.6616, 0.5786, 0.5128,\n",
              "       0.4776, 0.4994, 0.5197, 0.5071, 0.4577, 0.3505, 0.1845, 0.189 ,\n",
              "       0.1967, 0.1041, 0.055 , 0.0492, 0.0622, 0.0505, 0.0247, 0.0219,\n",
              "       0.0102, 0.0047, 0.0019, 0.0041, 0.0074, 0.003 , 0.005 , 0.0048,\n",
              "       0.0017, 0.0041, 0.0086, 0.0058]),\n",
              "       1], dtype=object)"
            ]
          },
          "metadata": {
            "tags": []
          },
          "execution_count": 7
        }
      ]
    },
    {
      "cell_type": "code",
      "metadata": {
        "id": "xlmSeKQo3tEN",
        "colab_type": "code",
        "colab": {}
      },
      "source": [
        "# calculate euclidian distance\n",
        "\n",
        "def e_distance(x1, x2):\n",
        "  points = zip(x1, x2)\n",
        "  ds_distance = [pow(a - b, 2) for (a, b) in points]\n",
        "  return sqrt(sum(ds_distance))\n",
        "\n",
        "# calculate manhattan distance\n",
        "\n",
        "def m_distance(x1, x2):\n",
        "  return sum(abs(a - b) for a, b in zip(x1, x2))"
      ],
      "execution_count": 0,
      "outputs": []
    },
    {
      "cell_type": "code",
      "metadata": {
        "id": "F5DSzqqs0TcK",
        "colab_type": "code",
        "outputId": "db8d7430-49ca-4998-aee6-1fcffef68b26",
        "colab": {
          "base_uri": "https://localhost:8080/",
          "height": 54
        }
      },
      "source": [
        "print(e_distance(train[0][0], train[1][0]))\n",
        "print(m_distance(train[0][0], train[1][0]))"
      ],
      "execution_count": 9,
      "outputs": [
        {
          "output_type": "stream",
          "text": [
            "0.9932319970681575\n",
            "5.4916\n"
          ],
          "name": "stdout"
        }
      ]
    },
    {
      "cell_type": "code",
      "metadata": {
        "id": "rMITEY-12vtx",
        "colab_type": "code",
        "colab": {}
      },
      "source": [
        "# getting the distance to all neighbours\n",
        "\n",
        "# euclidian\n",
        "def t_dist_e(training_instance, test_instance):\n",
        "  return (training_instance, e_distance(test_instance, training_instance[0]))\n",
        "\n",
        "# manhattan\n",
        "def t_dist_m(training_instance, test_instance):\n",
        "  return (training_instance, m_distance(test_instance, training_instance[0]))\n",
        "\n",
        "def find_neighbours(dist, training_set, test_instance, k):\n",
        "  distances = [dist(training_instance, test_instance) for training_instance in training_set]\n",
        "  \n",
        "  # index 1 : calculated distance between training_instance and test_instance\n",
        "  sort_dist = sorted(distances, key=itemgetter(1))\n",
        "\n",
        "  # extract only training instances\n",
        "  sort_t_inst = [tuple[0] for tuple in sort_dist]\n",
        "\n",
        "  # select first k elements\n",
        "  return sort_t_inst[:k]"
      ],
      "execution_count": 0,
      "outputs": []
    },
    {
      "cell_type": "code",
      "metadata": {
        "id": "6Rt-Mmg84paO",
        "colab_type": "code",
        "outputId": "5f10f951-0c1e-45cc-8257-67686418f344",
        "colab": {
          "base_uri": "https://localhost:8080/",
          "height": 348
        }
      },
      "source": [
        "print(t_dist_e(train[0], test[0][0]))\n",
        "print(t_dist_m(train[0], test[0][0]))"
      ],
      "execution_count": 11,
      "outputs": [
        {
          "output_type": "stream",
          "text": [
            "(array([array([0.0079, 0.0086, 0.0055, 0.025 , 0.0344, 0.0546, 0.0528, 0.0958,\n",
            "       0.1009, 0.124 , 0.1097, 0.1215, 0.1874, 0.3383, 0.3227, 0.2723,\n",
            "       0.3943, 0.6432, 0.7271, 0.8673, 0.9674, 0.9847, 0.948 , 0.8036,\n",
            "       0.6833, 0.5136, 0.309 , 0.0832, 0.4019, 0.2344, 0.1905, 0.1235,\n",
            "       0.1717, 0.2351, 0.2489, 0.3649, 0.3382, 0.1589, 0.0989, 0.1089,\n",
            "       0.1043, 0.0839, 0.1391, 0.0819, 0.0678, 0.0663, 0.1202, 0.0692,\n",
            "       0.0152, 0.0266, 0.0174, 0.0176, 0.0127, 0.0088, 0.0098, 0.0019,\n",
            "       0.0059, 0.0058, 0.0059, 0.0032]),\n",
            "       1], dtype=object), 1.7959556369799337)\n",
            "(array([array([0.0079, 0.0086, 0.0055, 0.025 , 0.0344, 0.0546, 0.0528, 0.0958,\n",
            "       0.1009, 0.124 , 0.1097, 0.1215, 0.1874, 0.3383, 0.3227, 0.2723,\n",
            "       0.3943, 0.6432, 0.7271, 0.8673, 0.9674, 0.9847, 0.948 , 0.8036,\n",
            "       0.6833, 0.5136, 0.309 , 0.0832, 0.4019, 0.2344, 0.1905, 0.1235,\n",
            "       0.1717, 0.2351, 0.2489, 0.3649, 0.3382, 0.1589, 0.0989, 0.1089,\n",
            "       0.1043, 0.0839, 0.1391, 0.0819, 0.0678, 0.0663, 0.1202, 0.0692,\n",
            "       0.0152, 0.0266, 0.0174, 0.0176, 0.0127, 0.0088, 0.0098, 0.0019,\n",
            "       0.0059, 0.0058, 0.0059, 0.0032]),\n",
            "       1], dtype=object), 8.8595)\n"
          ],
          "name": "stdout"
        }
      ]
    },
    {
      "cell_type": "code",
      "metadata": {
        "id": "nLJg1vqp4wEi",
        "colab_type": "code",
        "outputId": "53c06f3a-2774-41e7-eb77-cb45073d799e",
        "colab": {
          "base_uri": "https://localhost:8080/",
          "height": 1000
        }
      },
      "source": [
        "# predictions and voting\n",
        "\n",
        "e_predictions = []\n",
        "m_predictions = []\n",
        "\n",
        "def mostvote(neighbours):\n",
        "  # index 1 is the class\n",
        "  classes = [neighbour[1] for neighbour in neighbours]\n",
        "  count = Counter(classes)\n",
        "  return count.most_common()[0][0]\n",
        "\n",
        "# classification using euclidian distance\n",
        "for x in range(len(test_x)):\n",
        "  print('Classifying test row ' + str(x) + \":\")\n",
        "  e_neighbours = find_neighbours(t_dist_e, train, test[x][0], 1)\n",
        "  e_most_vote = mostvote(e_neighbours)\n",
        "  e_predictions.append(e_most_vote)\n",
        "  print('Predicted label=' + str(e_most_vote) + ', Actual label=' + str(test[x][1]))"
      ],
      "execution_count": 12,
      "outputs": [
        {
          "output_type": "stream",
          "text": [
            "Classifying test row 0:\n",
            "Predicted label=1, Actual label=1\n",
            "Classifying test row 1:\n",
            "Predicted label=0, Actual label=0\n",
            "Classifying test row 2:\n",
            "Predicted label=0, Actual label=0\n",
            "Classifying test row 3:\n",
            "Predicted label=1, Actual label=1\n",
            "Classifying test row 4:\n",
            "Predicted label=1, Actual label=1\n",
            "Classifying test row 5:\n",
            "Predicted label=0, Actual label=1\n",
            "Classifying test row 6:\n",
            "Predicted label=0, Actual label=0\n",
            "Classifying test row 7:\n",
            "Predicted label=0, Actual label=0\n",
            "Classifying test row 8:\n",
            "Predicted label=0, Actual label=0\n",
            "Classifying test row 9:\n",
            "Predicted label=0, Actual label=1\n",
            "Classifying test row 10:\n",
            "Predicted label=1, Actual label=1\n",
            "Classifying test row 11:\n",
            "Predicted label=1, Actual label=1\n",
            "Classifying test row 12:\n",
            "Predicted label=1, Actual label=1\n",
            "Classifying test row 13:\n",
            "Predicted label=1, Actual label=1\n",
            "Classifying test row 14:\n",
            "Predicted label=0, Actual label=1\n",
            "Classifying test row 15:\n",
            "Predicted label=0, Actual label=0\n",
            "Classifying test row 16:\n",
            "Predicted label=0, Actual label=0\n",
            "Classifying test row 17:\n",
            "Predicted label=1, Actual label=0\n",
            "Classifying test row 18:\n",
            "Predicted label=0, Actual label=0\n",
            "Classifying test row 19:\n",
            "Predicted label=0, Actual label=0\n",
            "Classifying test row 20:\n",
            "Predicted label=0, Actual label=0\n",
            "Classifying test row 21:\n",
            "Predicted label=1, Actual label=1\n",
            "Classifying test row 22:\n",
            "Predicted label=1, Actual label=1\n",
            "Classifying test row 23:\n",
            "Predicted label=1, Actual label=1\n",
            "Classifying test row 24:\n",
            "Predicted label=1, Actual label=1\n",
            "Classifying test row 25:\n",
            "Predicted label=0, Actual label=0\n",
            "Classifying test row 26:\n",
            "Predicted label=1, Actual label=1\n",
            "Classifying test row 27:\n",
            "Predicted label=1, Actual label=1\n",
            "Classifying test row 28:\n",
            "Predicted label=0, Actual label=0\n",
            "Classifying test row 29:\n",
            "Predicted label=0, Actual label=0\n",
            "Classifying test row 30:\n",
            "Predicted label=0, Actual label=0\n",
            "Classifying test row 31:\n",
            "Predicted label=0, Actual label=0\n",
            "Classifying test row 32:\n",
            "Predicted label=0, Actual label=0\n",
            "Classifying test row 33:\n",
            "Predicted label=1, Actual label=1\n",
            "Classifying test row 34:\n",
            "Predicted label=0, Actual label=0\n",
            "Classifying test row 35:\n",
            "Predicted label=0, Actual label=0\n",
            "Classifying test row 36:\n",
            "Predicted label=0, Actual label=0\n",
            "Classifying test row 37:\n",
            "Predicted label=0, Actual label=0\n",
            "Classifying test row 38:\n",
            "Predicted label=0, Actual label=0\n",
            "Classifying test row 39:\n",
            "Predicted label=1, Actual label=1\n",
            "Classifying test row 40:\n",
            "Predicted label=1, Actual label=1\n",
            "Classifying test row 41:\n",
            "Predicted label=0, Actual label=0\n",
            "Classifying test row 42:\n",
            "Predicted label=0, Actual label=0\n",
            "Classifying test row 43:\n",
            "Predicted label=0, Actual label=0\n",
            "Classifying test row 44:\n",
            "Predicted label=0, Actual label=1\n",
            "Classifying test row 45:\n",
            "Predicted label=1, Actual label=1\n",
            "Classifying test row 46:\n",
            "Predicted label=1, Actual label=1\n",
            "Classifying test row 47:\n",
            "Predicted label=0, Actual label=0\n",
            "Classifying test row 48:\n",
            "Predicted label=1, Actual label=1\n",
            "Classifying test row 49:\n",
            "Predicted label=1, Actual label=1\n",
            "Classifying test row 50:\n",
            "Predicted label=0, Actual label=0\n",
            "Classifying test row 51:\n",
            "Predicted label=1, Actual label=1\n",
            "Classifying test row 52:\n",
            "Predicted label=1, Actual label=1\n",
            "Classifying test row 53:\n",
            "Predicted label=0, Actual label=0\n",
            "Classifying test row 54:\n",
            "Predicted label=0, Actual label=0\n",
            "Classifying test row 55:\n",
            "Predicted label=1, Actual label=1\n",
            "Classifying test row 56:\n",
            "Predicted label=0, Actual label=0\n",
            "Classifying test row 57:\n",
            "Predicted label=1, Actual label=1\n",
            "Classifying test row 58:\n",
            "Predicted label=0, Actual label=0\n",
            "Classifying test row 59:\n",
            "Predicted label=0, Actual label=0\n",
            "Classifying test row 60:\n",
            "Predicted label=1, Actual label=1\n",
            "Classifying test row 61:\n",
            "Predicted label=0, Actual label=0\n",
            "Classifying test row 62:\n",
            "Predicted label=0, Actual label=0\n",
            "Classifying test row 63:\n",
            "Predicted label=1, Actual label=1\n",
            "Classifying test row 64:\n",
            "Predicted label=0, Actual label=0\n",
            "Classifying test row 65:\n",
            "Predicted label=0, Actual label=0\n",
            "Classifying test row 66:\n",
            "Predicted label=0, Actual label=1\n",
            "Classifying test row 67:\n",
            "Predicted label=0, Actual label=0\n",
            "Classifying test row 68:\n",
            "Predicted label=0, Actual label=1\n"
          ],
          "name": "stdout"
        }
      ]
    },
    {
      "cell_type": "code",
      "metadata": {
        "id": "6dJK9fcfKhO_",
        "colab_type": "code",
        "outputId": "aa5b91ec-3d40-477c-b5ad-9754c5f703af",
        "colab": {
          "base_uri": "https://localhost:8080/",
          "height": 1000
        }
      },
      "source": [
        "# classification using manhattan distance\n",
        "\n",
        "for x in range(len(test_x)):\n",
        "  print('Classifying test row ' + str(x) + \":\")\n",
        "  m_neighbours = find_neighbours(t_dist_m, train, test[x][0], 1)\n",
        "  m_most_vote = mostvote(m_neighbours)\n",
        "  m_predictions.append(m_most_vote)\n",
        "  print('Predicted label=' + str(m_most_vote) + ', Actual label=' + str(test[x][1]))"
      ],
      "execution_count": 13,
      "outputs": [
        {
          "output_type": "stream",
          "text": [
            "Classifying test row 0:\n",
            "Predicted label=1, Actual label=1\n",
            "Classifying test row 1:\n",
            "Predicted label=0, Actual label=0\n",
            "Classifying test row 2:\n",
            "Predicted label=0, Actual label=0\n",
            "Classifying test row 3:\n",
            "Predicted label=1, Actual label=1\n",
            "Classifying test row 4:\n",
            "Predicted label=1, Actual label=1\n",
            "Classifying test row 5:\n",
            "Predicted label=0, Actual label=1\n",
            "Classifying test row 6:\n",
            "Predicted label=0, Actual label=0\n",
            "Classifying test row 7:\n",
            "Predicted label=0, Actual label=0\n",
            "Classifying test row 8:\n",
            "Predicted label=0, Actual label=0\n",
            "Classifying test row 9:\n",
            "Predicted label=0, Actual label=1\n",
            "Classifying test row 10:\n",
            "Predicted label=1, Actual label=1\n",
            "Classifying test row 11:\n",
            "Predicted label=1, Actual label=1\n",
            "Classifying test row 12:\n",
            "Predicted label=1, Actual label=1\n",
            "Classifying test row 13:\n",
            "Predicted label=1, Actual label=1\n",
            "Classifying test row 14:\n",
            "Predicted label=0, Actual label=1\n",
            "Classifying test row 15:\n",
            "Predicted label=0, Actual label=0\n",
            "Classifying test row 16:\n",
            "Predicted label=0, Actual label=0\n",
            "Classifying test row 17:\n",
            "Predicted label=1, Actual label=0\n",
            "Classifying test row 18:\n",
            "Predicted label=0, Actual label=0\n",
            "Classifying test row 19:\n",
            "Predicted label=0, Actual label=0\n",
            "Classifying test row 20:\n",
            "Predicted label=0, Actual label=0\n",
            "Classifying test row 21:\n",
            "Predicted label=1, Actual label=1\n",
            "Classifying test row 22:\n",
            "Predicted label=1, Actual label=1\n",
            "Classifying test row 23:\n",
            "Predicted label=1, Actual label=1\n",
            "Classifying test row 24:\n",
            "Predicted label=1, Actual label=1\n",
            "Classifying test row 25:\n",
            "Predicted label=0, Actual label=0\n",
            "Classifying test row 26:\n",
            "Predicted label=1, Actual label=1\n",
            "Classifying test row 27:\n",
            "Predicted label=1, Actual label=1\n",
            "Classifying test row 28:\n",
            "Predicted label=0, Actual label=0\n",
            "Classifying test row 29:\n",
            "Predicted label=0, Actual label=0\n",
            "Classifying test row 30:\n",
            "Predicted label=0, Actual label=0\n",
            "Classifying test row 31:\n",
            "Predicted label=0, Actual label=0\n",
            "Classifying test row 32:\n",
            "Predicted label=0, Actual label=0\n",
            "Classifying test row 33:\n",
            "Predicted label=1, Actual label=1\n",
            "Classifying test row 34:\n",
            "Predicted label=0, Actual label=0\n",
            "Classifying test row 35:\n",
            "Predicted label=0, Actual label=0\n",
            "Classifying test row 36:\n",
            "Predicted label=0, Actual label=0\n",
            "Classifying test row 37:\n",
            "Predicted label=0, Actual label=0\n",
            "Classifying test row 38:\n",
            "Predicted label=0, Actual label=0\n",
            "Classifying test row 39:\n",
            "Predicted label=1, Actual label=1\n",
            "Classifying test row 40:\n",
            "Predicted label=1, Actual label=1\n",
            "Classifying test row 41:\n",
            "Predicted label=0, Actual label=0\n",
            "Classifying test row 42:\n",
            "Predicted label=0, Actual label=0\n",
            "Classifying test row 43:\n",
            "Predicted label=0, Actual label=0\n",
            "Classifying test row 44:\n",
            "Predicted label=1, Actual label=1\n",
            "Classifying test row 45:\n",
            "Predicted label=1, Actual label=1\n",
            "Classifying test row 46:\n",
            "Predicted label=1, Actual label=1\n",
            "Classifying test row 47:\n",
            "Predicted label=0, Actual label=0\n",
            "Classifying test row 48:\n",
            "Predicted label=1, Actual label=1\n",
            "Classifying test row 49:\n",
            "Predicted label=1, Actual label=1\n",
            "Classifying test row 50:\n",
            "Predicted label=0, Actual label=0\n",
            "Classifying test row 51:\n",
            "Predicted label=1, Actual label=1\n",
            "Classifying test row 52:\n",
            "Predicted label=0, Actual label=1\n",
            "Classifying test row 53:\n",
            "Predicted label=0, Actual label=0\n",
            "Classifying test row 54:\n",
            "Predicted label=0, Actual label=0\n",
            "Classifying test row 55:\n",
            "Predicted label=1, Actual label=1\n",
            "Classifying test row 56:\n",
            "Predicted label=0, Actual label=0\n",
            "Classifying test row 57:\n",
            "Predicted label=1, Actual label=1\n",
            "Classifying test row 58:\n",
            "Predicted label=0, Actual label=0\n",
            "Classifying test row 59:\n",
            "Predicted label=1, Actual label=0\n",
            "Classifying test row 60:\n",
            "Predicted label=0, Actual label=1\n",
            "Classifying test row 61:\n",
            "Predicted label=0, Actual label=0\n",
            "Classifying test row 62:\n",
            "Predicted label=0, Actual label=0\n",
            "Classifying test row 63:\n",
            "Predicted label=1, Actual label=1\n",
            "Classifying test row 64:\n",
            "Predicted label=0, Actual label=0\n",
            "Classifying test row 65:\n",
            "Predicted label=0, Actual label=0\n",
            "Classifying test row 66:\n",
            "Predicted label=0, Actual label=1\n",
            "Classifying test row 67:\n",
            "Predicted label=0, Actual label=0\n",
            "Classifying test row 68:\n",
            "Predicted label=1, Actual label=1\n"
          ],
          "name": "stdout"
        }
      ]
    },
    {
      "cell_type": "code",
      "metadata": {
        "id": "p65VpQ0iIgC4",
        "colab_type": "code",
        "outputId": "b2b0068d-9a48-4f23-a7ea-e153a156424c",
        "colab": {
          "base_uri": "https://localhost:8080/",
          "height": 127
        }
      },
      "source": [
        "# classification performance summary\n",
        "\n",
        "print('Measuring with Euclidian distance:')\n",
        "print('Accuracy: ' + str(accuracy_score(test_y, e_predictions)) + \"\\n\")\n",
        "\n",
        "print('Measuring with Manhattan distance:')\n",
        "print('Accuracy: ' + str(accuracy_score(test_y, m_predictions)) + \"\\n\")"
      ],
      "execution_count": 14,
      "outputs": [
        {
          "output_type": "stream",
          "text": [
            "Measuring with Euclidian distance:\n",
            "Accuracy: 0.8985507246376812\n",
            "\n",
            "Measuring with Manhattan distance:\n",
            "Accuracy: 0.8840579710144928\n",
            "\n"
          ],
          "name": "stdout"
        }
      ]
    },
    {
      "cell_type": "code",
      "metadata": {
        "id": "BsvXcysLNmSC",
        "colab_type": "code",
        "outputId": "62758db7-5c38-49b1-908a-53fa9e45b234",
        "colab": {
          "base_uri": "https://localhost:8080/",
          "height": 728
        }
      },
      "source": [
        "# data visualisation\n",
        "\n",
        "e_cm = confusion_matrix(test_y, e_predictions)\n",
        "m_cm = confusion_matrix(test_y, m_predictions)\n",
        "\n",
        "print(e_cm)\n",
        "print(m_cm)\n",
        "\n",
        "plt.figure(figsize = (5,5))\n",
        "sns.heatmap(e_cm, annot=True)\n",
        "plt.title('Confusion Matrix: Euclidian Distance Predictions')\n",
        "plt.show()\n",
        "\n",
        "plt.figure(figsize = (5,5))\n",
        "sns.heatmap(m_cm, annot=True)\n",
        "plt.title('Confusion Matrix: Manhattan Distance Predictions')\n",
        "plt.show()"
      ],
      "execution_count": 15,
      "outputs": [
        {
          "output_type": "stream",
          "text": [
            "[[36  1]\n",
            " [ 6 26]]\n",
            "[[35  2]\n",
            " [ 6 26]]\n"
          ],
          "name": "stdout"
        },
        {
          "output_type": "display_data",
          "data": {
            "image/png": "[encoded data removed]",
            "text/plain": [
              "<Figure size 360x360 with 2 Axes>"
            ]
          },
          "metadata": {
            "tags": [],
            "needs_background": "light"
          }
        },
        {
          "output_type": "display_data",
          "data": {
            "image/png": "[encoded data removed]",
            "text/plain": [
              "<Figure size 360x360 with 2 Axes>"
            ]
          },
          "metadata": {
            "tags": [],
            "needs_background": "light"
          }
        }
      ]
    }
  ]
}